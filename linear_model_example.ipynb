{
 "cells": [
  {
   "cell_type": "code",
   "execution_count": null,
   "id": "5aacd8cf-2a3a-435d-a14b-9e7eccd99d30",
   "metadata": {},
   "outputs": [],
   "source": [
    "import numpy as np\n",
    "import tensorflow as tf\n",
    "import matplotlib.pyplot as plt\n",
    "\n",
    "print(tf.__version__)"
   ]
  },
  {
   "cell_type": "code",
   "execution_count": null,
   "id": "756362d2-4223-481a-b2cb-a2e744460d1c",
   "metadata": {},
   "outputs": [],
   "source": [
    "np.random.seed(42)\n",
    "tf.random.set_seed(42)"
   ]
  },
  {
   "cell_type": "code",
   "execution_count": null,
   "id": "7b6a4bc9-830e-45d5-863b-fb1a850c777e",
   "metadata": {},
   "outputs": [],
   "source": [
    "# random linear data: 100 between 0-50\n",
    "n = 100\n",
    "X = np.linspace(0, 50, n)\n",
    "y = np.linspace(0, 50, n)\n",
    "\n",
    "# Adding noise to the random linear data \n",
    "X += np.random.uniform(-10, 10, n)\n",
    "y += np.random.uniform(-10, 10, n)"
   ]
  },
  {
   "cell_type": "code",
   "execution_count": null,
   "id": "162972fe-59df-451e-91c0-50827cb5d685",
   "metadata": {},
   "outputs": [],
   "source": [
    "# Plot the training data\n",
    "plt.scatter(X, y)\n",
    "plt.xlabel('x')\n",
    "plt.ylabel('y')\n",
    "plt.title('Training Data')\n",
    "plt.show()\n"
   ]
  },
  {
   "cell_type": "code",
   "execution_count": null,
   "id": "6f772016-f0cd-45bf-8473-8a7298aba03d",
   "metadata": {},
   "outputs": [],
   "source": [
    "class LinearModel:\n",
    "    def __init__(self):\n",
    "        # y_pred = W*X + b\n",
    "        self.W = tf.Variable(13.0)\n",
    "        self.b = tf.Variable(4.0)\n",
    "\n",
    "    # loss function\n",
    "    def loss(self, y, y_pred):\n",
    "        # calculates the mean square error\n",
    "        return tf.reduce_mean(tf.square(y - y_pred))\n",
    "        \n",
    "    # train function\n",
    "    def train(self, X, y, lr=0.0001, epochs=20, verbose=True):\n",
    "        def train_step():\n",
    "            with tf.GradientTape() as t:\n",
    "                current_loss = self.loss(y, self.predict(X))\n",
    "\n",
    "            dW, db = t.gradient(current_loss, [self.W, self.b])\n",
    "            self.W.assign_sub(lr * dW)  # W -= lr * dW\n",
    "            self.b.assign_sub(lr * db)\n",
    "            return current_loss\n",
    "\n",
    "        for epoch in range(epochs):\n",
    "            current_loss = train_step()\n",
    "            if verbose:\n",
    "                print(f'Epoch {epoch}: loss: {current_loss.numpy()}') #eager execution\n",
    "\n",
    "    def predict(self, X):\n",
    "        return self.W * X + self.b\n",
    "        "
   ]
  },
  {
   "cell_type": "code",
   "execution_count": null,
   "id": "32754e46-14ec-4031-9354-8fc2380b0fd1",
   "metadata": {},
   "outputs": [],
   "source": [
    "# Using the MOdel\n",
    "\n",
    "model = LinearModel()\n",
    "model.train(X, y, epochs=40)\n",
    "plt.scatter(X, y, label='data')\n",
    "plt.plot(X, model.predict(X), 'r-', label='predicted')\n",
    "plt.legend()"
   ]
  },
  {
   "cell_type": "code",
   "execution_count": null,
   "id": "613a6442-f8bd-493c-bebc-382f323e48ee",
   "metadata": {},
   "outputs": [],
   "source": []
  }
 ],
 "metadata": {
  "kernelspec": {
   "display_name": "Python 3 (ipykernel)",
   "language": "python",
   "name": "python3"
  },
  "language_info": {
   "codemirror_mode": {
    "name": "ipython",
    "version": 3
   },
   "file_extension": ".py",
   "mimetype": "text/x-python",
   "name": "python",
   "nbconvert_exporter": "python",
   "pygments_lexer": "ipython3",
   "version": "3.11.8"
  }
 },
 "nbformat": 4,
 "nbformat_minor": 5
}
